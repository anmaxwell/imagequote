{
 "cells": [
  {
   "cell_type": "markdown",
   "id": "internal-defeat",
   "metadata": {},
   "source": [
    "This notebook is to create a dataset to be used to train a model for predicting images.  The dataset is a csv containing quotes that are read in then transformed and output to train.\n",
    "\n",
    "Each image is assigned to an image."
   ]
  },
  {
   "cell_type": "code",
   "execution_count": 177,
   "id": "better-seeker",
   "metadata": {},
   "outputs": [],
   "source": [
    "import csv\n",
    "import string\n",
    "import pandas as pd"
   ]
  },
  {
   "cell_type": "markdown",
   "id": "a2ac5a24",
   "metadata": {},
   "source": [
    "The csv is read into a dataframe"
   ]
  },
  {
   "cell_type": "code",
   "execution_count": 178,
   "id": "e7e92268",
   "metadata": {},
   "outputs": [],
   "source": [
    "df = pd.read_csv('imagequotes.csv')"
   ]
  },
  {
   "cell_type": "code",
   "execution_count": 179,
   "id": "d0f45f5c",
   "metadata": {},
   "outputs": [
    {
     "data": {
      "text/html": [
       "<div>\n",
       "<style scoped>\n",
       "    .dataframe tbody tr th:only-of-type {\n",
       "        vertical-align: middle;\n",
       "    }\n",
       "\n",
       "    .dataframe tbody tr th {\n",
       "        vertical-align: top;\n",
       "    }\n",
       "\n",
       "    .dataframe thead th {\n",
       "        text-align: right;\n",
       "    }\n",
       "</style>\n",
       "<table border=\"1\" class=\"dataframe\">\n",
       "  <thead>\n",
       "    <tr style=\"text-align: right;\">\n",
       "      <th></th>\n",
       "      <th>Image</th>\n",
       "      <th>Quote</th>\n",
       "    </tr>\n",
       "  </thead>\n",
       "  <tbody>\n",
       "    <tr>\n",
       "      <th>0</th>\n",
       "      <td>1</td>\n",
       "      <td>As human beings our greatness lies not so muc...</td>\n",
       "    </tr>\n",
       "    <tr>\n",
       "      <th>1</th>\n",
       "      <td>1</td>\n",
       "      <td>We prefer world law in the age of self-determ...</td>\n",
       "    </tr>\n",
       "    <tr>\n",
       "      <th>2</th>\n",
       "      <td>1</td>\n",
       "      <td>Better pass boldly into that other world in t...</td>\n",
       "    </tr>\n",
       "    <tr>\n",
       "      <th>3</th>\n",
       "      <td>1</td>\n",
       "      <td>The credit of advancing science has always be...</td>\n",
       "    </tr>\n",
       "    <tr>\n",
       "      <th>4</th>\n",
       "      <td>1</td>\n",
       "      <td>It is well for the world that in most of us b...</td>\n",
       "    </tr>\n",
       "  </tbody>\n",
       "</table>\n",
       "</div>"
      ],
      "text/plain": [
       "   Image                                              Quote\n",
       "0      1   As human beings our greatness lies not so muc...\n",
       "1      1   We prefer world law in the age of self-determ...\n",
       "2      1   Better pass boldly into that other world in t...\n",
       "3      1   The credit of advancing science has always be...\n",
       "4      1   It is well for the world that in most of us b..."
      ]
     },
     "execution_count": 179,
     "metadata": {},
     "output_type": "execute_result"
    }
   ],
   "source": [
    "df.head()"
   ]
  },
  {
   "cell_type": "code",
   "execution_count": 180,
   "id": "c4e3bdbf",
   "metadata": {},
   "outputs": [],
   "source": [
    "import tensorflow as tf\n",
    "import tensorflow_hub as hub\n",
    "\n",
    "module_url = 'https://tfhub.dev/google/universal-sentence-encoder/4'\n",
    "model = hub.load(module_url)"
   ]
  },
  {
   "cell_type": "code",
   "execution_count": 181,
   "id": "d973d934",
   "metadata": {},
   "outputs": [],
   "source": [
    "df['Vector'] = model(df['Quote'])"
   ]
  },
  {
   "cell_type": "code",
   "execution_count": 182,
   "id": "6690ba26",
   "metadata": {},
   "outputs": [],
   "source": [
    "dataset = pd.DataFrame(df['Vector'].tolist(), index=df.index)"
   ]
  },
  {
   "cell_type": "code",
   "execution_count": 183,
   "id": "c76373d4",
   "metadata": {},
   "outputs": [],
   "source": [
    "dataset['Image'] = df['Image']"
   ]
  },
  {
   "cell_type": "code",
   "execution_count": 184,
   "id": "d33f1626",
   "metadata": {},
   "outputs": [
    {
     "data": {
      "text/html": [
       "<div>\n",
       "<style scoped>\n",
       "    .dataframe tbody tr th:only-of-type {\n",
       "        vertical-align: middle;\n",
       "    }\n",
       "\n",
       "    .dataframe tbody tr th {\n",
       "        vertical-align: top;\n",
       "    }\n",
       "\n",
       "    .dataframe thead th {\n",
       "        text-align: right;\n",
       "    }\n",
       "</style>\n",
       "<table border=\"1\" class=\"dataframe\">\n",
       "  <thead>\n",
       "    <tr style=\"text-align: right;\">\n",
       "      <th></th>\n",
       "      <th>0</th>\n",
       "      <th>1</th>\n",
       "      <th>2</th>\n",
       "      <th>3</th>\n",
       "      <th>4</th>\n",
       "      <th>5</th>\n",
       "      <th>6</th>\n",
       "      <th>7</th>\n",
       "      <th>8</th>\n",
       "      <th>9</th>\n",
       "      <th>...</th>\n",
       "      <th>503</th>\n",
       "      <th>504</th>\n",
       "      <th>505</th>\n",
       "      <th>506</th>\n",
       "      <th>507</th>\n",
       "      <th>508</th>\n",
       "      <th>509</th>\n",
       "      <th>510</th>\n",
       "      <th>511</th>\n",
       "      <th>Image</th>\n",
       "    </tr>\n",
       "  </thead>\n",
       "  <tbody>\n",
       "    <tr>\n",
       "      <th>0</th>\n",
       "      <td>tf.Tensor(-0.03283241, shape=(), dtype=float32)</td>\n",
       "      <td>tf.Tensor(-0.09350429, shape=(), dtype=float32)</td>\n",
       "      <td>tf.Tensor(-0.032954615, shape=(), dtype=float32)</td>\n",
       "      <td>tf.Tensor(-0.03530036, shape=(), dtype=float32)</td>\n",
       "      <td>tf.Tensor(-0.07421113, shape=(), dtype=float32)</td>\n",
       "      <td>tf.Tensor(0.03126013, shape=(), dtype=float32)</td>\n",
       "      <td>tf.Tensor(-0.020682173, shape=(), dtype=float32)</td>\n",
       "      <td>tf.Tensor(0.026027601, shape=(), dtype=float32)</td>\n",
       "      <td>tf.Tensor(0.06678587, shape=(), dtype=float32)</td>\n",
       "      <td>tf.Tensor(0.031110557, shape=(), dtype=float32)</td>\n",
       "      <td>...</td>\n",
       "      <td>tf.Tensor(0.031632885, shape=(), dtype=float32)</td>\n",
       "      <td>tf.Tensor(-0.056682445, shape=(), dtype=float32)</td>\n",
       "      <td>tf.Tensor(0.008430766, shape=(), dtype=float32)</td>\n",
       "      <td>tf.Tensor(0.03814993, shape=(), dtype=float32)</td>\n",
       "      <td>tf.Tensor(0.0075748824, shape=(), dtype=float32)</td>\n",
       "      <td>tf.Tensor(0.0034700483, shape=(), dtype=float32)</td>\n",
       "      <td>tf.Tensor(-0.064628266, shape=(), dtype=float32)</td>\n",
       "      <td>tf.Tensor(0.03254001, shape=(), dtype=float32)</td>\n",
       "      <td>tf.Tensor(0.03742683, shape=(), dtype=float32)</td>\n",
       "      <td>1</td>\n",
       "    </tr>\n",
       "    <tr>\n",
       "      <th>1</th>\n",
       "      <td>tf.Tensor(0.020856572, shape=(), dtype=float32)</td>\n",
       "      <td>tf.Tensor(-0.03621651, shape=(), dtype=float32)</td>\n",
       "      <td>tf.Tensor(0.03957077, shape=(), dtype=float32)</td>\n",
       "      <td>tf.Tensor(0.032007534, shape=(), dtype=float32)</td>\n",
       "      <td>tf.Tensor(-0.097298265, shape=(), dtype=float32)</td>\n",
       "      <td>tf.Tensor(-0.03527937, shape=(), dtype=float32)</td>\n",
       "      <td>tf.Tensor(-0.014626204, shape=(), dtype=float32)</td>\n",
       "      <td>tf.Tensor(0.009335089, shape=(), dtype=float32)</td>\n",
       "      <td>tf.Tensor(0.053205486, shape=(), dtype=float32)</td>\n",
       "      <td>tf.Tensor(-0.0046333713, shape=(), dtype=float32)</td>\n",
       "      <td>...</td>\n",
       "      <td>tf.Tensor(0.068360135, shape=(), dtype=float32)</td>\n",
       "      <td>tf.Tensor(0.0011862688, shape=(), dtype=float32)</td>\n",
       "      <td>tf.Tensor(-0.0042501586, shape=(), dtype=float32)</td>\n",
       "      <td>tf.Tensor(-0.015344017, shape=(), dtype=float32)</td>\n",
       "      <td>tf.Tensor(-0.009208948, shape=(), dtype=float32)</td>\n",
       "      <td>tf.Tensor(0.00012173634, shape=(), dtype=float32)</td>\n",
       "      <td>tf.Tensor(0.011467478, shape=(), dtype=float32)</td>\n",
       "      <td>tf.Tensor(-0.023475826, shape=(), dtype=float32)</td>\n",
       "      <td>tf.Tensor(-0.053603977, shape=(), dtype=float32)</td>\n",
       "      <td>1</td>\n",
       "    </tr>\n",
       "    <tr>\n",
       "      <th>2</th>\n",
       "      <td>tf.Tensor(0.025333056, shape=(), dtype=float32)</td>\n",
       "      <td>tf.Tensor(-0.041800763, shape=(), dtype=float32)</td>\n",
       "      <td>tf.Tensor(-0.04352693, shape=(), dtype=float32)</td>\n",
       "      <td>tf.Tensor(0.0038669591, shape=(), dtype=float32)</td>\n",
       "      <td>tf.Tensor(-0.07491173, shape=(), dtype=float32)</td>\n",
       "      <td>tf.Tensor(0.003155171, shape=(), dtype=float32)</td>\n",
       "      <td>tf.Tensor(-0.009460537, shape=(), dtype=float32)</td>\n",
       "      <td>tf.Tensor(0.00501278, shape=(), dtype=float32)</td>\n",
       "      <td>tf.Tensor(0.021491798, shape=(), dtype=float32)</td>\n",
       "      <td>tf.Tensor(0.05836331, shape=(), dtype=float32)</td>\n",
       "      <td>...</td>\n",
       "      <td>tf.Tensor(-0.0076297834, shape=(), dtype=float32)</td>\n",
       "      <td>tf.Tensor(-0.015316657, shape=(), dtype=float32)</td>\n",
       "      <td>tf.Tensor(-0.012000134, shape=(), dtype=float32)</td>\n",
       "      <td>tf.Tensor(-0.04042723, shape=(), dtype=float32)</td>\n",
       "      <td>tf.Tensor(0.017987527, shape=(), dtype=float32)</td>\n",
       "      <td>tf.Tensor(0.011247047, shape=(), dtype=float32)</td>\n",
       "      <td>tf.Tensor(0.021211384, shape=(), dtype=float32)</td>\n",
       "      <td>tf.Tensor(-0.038304195, shape=(), dtype=float32)</td>\n",
       "      <td>tf.Tensor(0.030053513, shape=(), dtype=float32)</td>\n",
       "      <td>1</td>\n",
       "    </tr>\n",
       "    <tr>\n",
       "      <th>3</th>\n",
       "      <td>tf.Tensor(0.028222848, shape=(), dtype=float32)</td>\n",
       "      <td>tf.Tensor(-0.06331853, shape=(), dtype=float32)</td>\n",
       "      <td>tf.Tensor(0.02779416, shape=(), dtype=float32)</td>\n",
       "      <td>tf.Tensor(-0.016855037, shape=(), dtype=float32)</td>\n",
       "      <td>tf.Tensor(-0.094050065, shape=(), dtype=float32)</td>\n",
       "      <td>tf.Tensor(0.017606316, shape=(), dtype=float32)</td>\n",
       "      <td>tf.Tensor(0.04621162, shape=(), dtype=float32)</td>\n",
       "      <td>tf.Tensor(0.05642932, shape=(), dtype=float32)</td>\n",
       "      <td>tf.Tensor(0.027416842, shape=(), dtype=float32)</td>\n",
       "      <td>tf.Tensor(0.019753339, shape=(), dtype=float32)</td>\n",
       "      <td>...</td>\n",
       "      <td>tf.Tensor(0.06284544, shape=(), dtype=float32)</td>\n",
       "      <td>tf.Tensor(-0.0078172665, shape=(), dtype=float32)</td>\n",
       "      <td>tf.Tensor(-0.03178239, shape=(), dtype=float32)</td>\n",
       "      <td>tf.Tensor(-0.01780948, shape=(), dtype=float32)</td>\n",
       "      <td>tf.Tensor(-0.06320212, shape=(), dtype=float32)</td>\n",
       "      <td>tf.Tensor(-0.015947752, shape=(), dtype=float32)</td>\n",
       "      <td>tf.Tensor(-0.026340852, shape=(), dtype=float32)</td>\n",
       "      <td>tf.Tensor(0.009958421, shape=(), dtype=float32)</td>\n",
       "      <td>tf.Tensor(0.056969814, shape=(), dtype=float32)</td>\n",
       "      <td>1</td>\n",
       "    </tr>\n",
       "    <tr>\n",
       "      <th>4</th>\n",
       "      <td>tf.Tensor(-0.052367665, shape=(), dtype=float32)</td>\n",
       "      <td>tf.Tensor(-0.009509999, shape=(), dtype=float32)</td>\n",
       "      <td>tf.Tensor(-0.04090367, shape=(), dtype=float32)</td>\n",
       "      <td>tf.Tensor(0.04811647, shape=(), dtype=float32)</td>\n",
       "      <td>tf.Tensor(-0.11153232, shape=(), dtype=float32)</td>\n",
       "      <td>tf.Tensor(0.05593143, shape=(), dtype=float32)</td>\n",
       "      <td>tf.Tensor(-0.009117852, shape=(), dtype=float32)</td>\n",
       "      <td>tf.Tensor(-0.0016729495, shape=(), dtype=float32)</td>\n",
       "      <td>tf.Tensor(0.098200634, shape=(), dtype=float32)</td>\n",
       "      <td>tf.Tensor(0.030872464, shape=(), dtype=float32)</td>\n",
       "      <td>...</td>\n",
       "      <td>tf.Tensor(-0.019737445, shape=(), dtype=float32)</td>\n",
       "      <td>tf.Tensor(0.007561099, shape=(), dtype=float32)</td>\n",
       "      <td>tf.Tensor(-0.029854836, shape=(), dtype=float32)</td>\n",
       "      <td>tf.Tensor(0.031193824, shape=(), dtype=float32)</td>\n",
       "      <td>tf.Tensor(0.020793337, shape=(), dtype=float32)</td>\n",
       "      <td>tf.Tensor(-0.08877265, shape=(), dtype=float32)</td>\n",
       "      <td>tf.Tensor(0.010770523, shape=(), dtype=float32)</td>\n",
       "      <td>tf.Tensor(0.09477881, shape=(), dtype=float32)</td>\n",
       "      <td>tf.Tensor(0.0067060394, shape=(), dtype=float32)</td>\n",
       "      <td>1</td>\n",
       "    </tr>\n",
       "  </tbody>\n",
       "</table>\n",
       "<p>5 rows × 513 columns</p>\n",
       "</div>"
      ],
      "text/plain": [
       "                                                  0  \\\n",
       "0   tf.Tensor(-0.03283241, shape=(), dtype=float32)   \n",
       "1   tf.Tensor(0.020856572, shape=(), dtype=float32)   \n",
       "2   tf.Tensor(0.025333056, shape=(), dtype=float32)   \n",
       "3   tf.Tensor(0.028222848, shape=(), dtype=float32)   \n",
       "4  tf.Tensor(-0.052367665, shape=(), dtype=float32)   \n",
       "\n",
       "                                                  1  \\\n",
       "0   tf.Tensor(-0.09350429, shape=(), dtype=float32)   \n",
       "1   tf.Tensor(-0.03621651, shape=(), dtype=float32)   \n",
       "2  tf.Tensor(-0.041800763, shape=(), dtype=float32)   \n",
       "3   tf.Tensor(-0.06331853, shape=(), dtype=float32)   \n",
       "4  tf.Tensor(-0.009509999, shape=(), dtype=float32)   \n",
       "\n",
       "                                                  2  \\\n",
       "0  tf.Tensor(-0.032954615, shape=(), dtype=float32)   \n",
       "1    tf.Tensor(0.03957077, shape=(), dtype=float32)   \n",
       "2   tf.Tensor(-0.04352693, shape=(), dtype=float32)   \n",
       "3    tf.Tensor(0.02779416, shape=(), dtype=float32)   \n",
       "4   tf.Tensor(-0.04090367, shape=(), dtype=float32)   \n",
       "\n",
       "                                                  3  \\\n",
       "0   tf.Tensor(-0.03530036, shape=(), dtype=float32)   \n",
       "1   tf.Tensor(0.032007534, shape=(), dtype=float32)   \n",
       "2  tf.Tensor(0.0038669591, shape=(), dtype=float32)   \n",
       "3  tf.Tensor(-0.016855037, shape=(), dtype=float32)   \n",
       "4    tf.Tensor(0.04811647, shape=(), dtype=float32)   \n",
       "\n",
       "                                                  4  \\\n",
       "0   tf.Tensor(-0.07421113, shape=(), dtype=float32)   \n",
       "1  tf.Tensor(-0.097298265, shape=(), dtype=float32)   \n",
       "2   tf.Tensor(-0.07491173, shape=(), dtype=float32)   \n",
       "3  tf.Tensor(-0.094050065, shape=(), dtype=float32)   \n",
       "4   tf.Tensor(-0.11153232, shape=(), dtype=float32)   \n",
       "\n",
       "                                                 5  \\\n",
       "0   tf.Tensor(0.03126013, shape=(), dtype=float32)   \n",
       "1  tf.Tensor(-0.03527937, shape=(), dtype=float32)   \n",
       "2  tf.Tensor(0.003155171, shape=(), dtype=float32)   \n",
       "3  tf.Tensor(0.017606316, shape=(), dtype=float32)   \n",
       "4   tf.Tensor(0.05593143, shape=(), dtype=float32)   \n",
       "\n",
       "                                                  6  \\\n",
       "0  tf.Tensor(-0.020682173, shape=(), dtype=float32)   \n",
       "1  tf.Tensor(-0.014626204, shape=(), dtype=float32)   \n",
       "2  tf.Tensor(-0.009460537, shape=(), dtype=float32)   \n",
       "3    tf.Tensor(0.04621162, shape=(), dtype=float32)   \n",
       "4  tf.Tensor(-0.009117852, shape=(), dtype=float32)   \n",
       "\n",
       "                                                   7  \\\n",
       "0    tf.Tensor(0.026027601, shape=(), dtype=float32)   \n",
       "1    tf.Tensor(0.009335089, shape=(), dtype=float32)   \n",
       "2     tf.Tensor(0.00501278, shape=(), dtype=float32)   \n",
       "3     tf.Tensor(0.05642932, shape=(), dtype=float32)   \n",
       "4  tf.Tensor(-0.0016729495, shape=(), dtype=float32)   \n",
       "\n",
       "                                                 8  \\\n",
       "0   tf.Tensor(0.06678587, shape=(), dtype=float32)   \n",
       "1  tf.Tensor(0.053205486, shape=(), dtype=float32)   \n",
       "2  tf.Tensor(0.021491798, shape=(), dtype=float32)   \n",
       "3  tf.Tensor(0.027416842, shape=(), dtype=float32)   \n",
       "4  tf.Tensor(0.098200634, shape=(), dtype=float32)   \n",
       "\n",
       "                                                   9  ...  \\\n",
       "0    tf.Tensor(0.031110557, shape=(), dtype=float32)  ...   \n",
       "1  tf.Tensor(-0.0046333713, shape=(), dtype=float32)  ...   \n",
       "2     tf.Tensor(0.05836331, shape=(), dtype=float32)  ...   \n",
       "3    tf.Tensor(0.019753339, shape=(), dtype=float32)  ...   \n",
       "4    tf.Tensor(0.030872464, shape=(), dtype=float32)  ...   \n",
       "\n",
       "                                                 503  \\\n",
       "0    tf.Tensor(0.031632885, shape=(), dtype=float32)   \n",
       "1    tf.Tensor(0.068360135, shape=(), dtype=float32)   \n",
       "2  tf.Tensor(-0.0076297834, shape=(), dtype=float32)   \n",
       "3     tf.Tensor(0.06284544, shape=(), dtype=float32)   \n",
       "4   tf.Tensor(-0.019737445, shape=(), dtype=float32)   \n",
       "\n",
       "                                                 504  \\\n",
       "0   tf.Tensor(-0.056682445, shape=(), dtype=float32)   \n",
       "1   tf.Tensor(0.0011862688, shape=(), dtype=float32)   \n",
       "2   tf.Tensor(-0.015316657, shape=(), dtype=float32)   \n",
       "3  tf.Tensor(-0.0078172665, shape=(), dtype=float32)   \n",
       "4    tf.Tensor(0.007561099, shape=(), dtype=float32)   \n",
       "\n",
       "                                                 505  \\\n",
       "0    tf.Tensor(0.008430766, shape=(), dtype=float32)   \n",
       "1  tf.Tensor(-0.0042501586, shape=(), dtype=float32)   \n",
       "2   tf.Tensor(-0.012000134, shape=(), dtype=float32)   \n",
       "3    tf.Tensor(-0.03178239, shape=(), dtype=float32)   \n",
       "4   tf.Tensor(-0.029854836, shape=(), dtype=float32)   \n",
       "\n",
       "                                                506  \\\n",
       "0    tf.Tensor(0.03814993, shape=(), dtype=float32)   \n",
       "1  tf.Tensor(-0.015344017, shape=(), dtype=float32)   \n",
       "2   tf.Tensor(-0.04042723, shape=(), dtype=float32)   \n",
       "3   tf.Tensor(-0.01780948, shape=(), dtype=float32)   \n",
       "4   tf.Tensor(0.031193824, shape=(), dtype=float32)   \n",
       "\n",
       "                                                507  \\\n",
       "0  tf.Tensor(0.0075748824, shape=(), dtype=float32)   \n",
       "1  tf.Tensor(-0.009208948, shape=(), dtype=float32)   \n",
       "2   tf.Tensor(0.017987527, shape=(), dtype=float32)   \n",
       "3   tf.Tensor(-0.06320212, shape=(), dtype=float32)   \n",
       "4   tf.Tensor(0.020793337, shape=(), dtype=float32)   \n",
       "\n",
       "                                                 508  \\\n",
       "0   tf.Tensor(0.0034700483, shape=(), dtype=float32)   \n",
       "1  tf.Tensor(0.00012173634, shape=(), dtype=float32)   \n",
       "2    tf.Tensor(0.011247047, shape=(), dtype=float32)   \n",
       "3   tf.Tensor(-0.015947752, shape=(), dtype=float32)   \n",
       "4    tf.Tensor(-0.08877265, shape=(), dtype=float32)   \n",
       "\n",
       "                                                509  \\\n",
       "0  tf.Tensor(-0.064628266, shape=(), dtype=float32)   \n",
       "1   tf.Tensor(0.011467478, shape=(), dtype=float32)   \n",
       "2   tf.Tensor(0.021211384, shape=(), dtype=float32)   \n",
       "3  tf.Tensor(-0.026340852, shape=(), dtype=float32)   \n",
       "4   tf.Tensor(0.010770523, shape=(), dtype=float32)   \n",
       "\n",
       "                                                510  \\\n",
       "0    tf.Tensor(0.03254001, shape=(), dtype=float32)   \n",
       "1  tf.Tensor(-0.023475826, shape=(), dtype=float32)   \n",
       "2  tf.Tensor(-0.038304195, shape=(), dtype=float32)   \n",
       "3   tf.Tensor(0.009958421, shape=(), dtype=float32)   \n",
       "4    tf.Tensor(0.09477881, shape=(), dtype=float32)   \n",
       "\n",
       "                                                511 Image  \n",
       "0    tf.Tensor(0.03742683, shape=(), dtype=float32)     1  \n",
       "1  tf.Tensor(-0.053603977, shape=(), dtype=float32)     1  \n",
       "2   tf.Tensor(0.030053513, shape=(), dtype=float32)     1  \n",
       "3   tf.Tensor(0.056969814, shape=(), dtype=float32)     1  \n",
       "4  tf.Tensor(0.0067060394, shape=(), dtype=float32)     1  \n",
       "\n",
       "[5 rows x 513 columns]"
      ]
     },
     "execution_count": 184,
     "metadata": {},
     "output_type": "execute_result"
    }
   ],
   "source": [
    "dataset.head()"
   ]
  },
  {
   "cell_type": "code",
   "execution_count": 185,
   "id": "ab34c213",
   "metadata": {},
   "outputs": [],
   "source": [
    "from sklearn.model_selection import train_test_split\n",
    "\n",
    "X = dataset.drop(['Image'], axis=1)\n",
    "y = dataset['Image']"
   ]
  },
  {
   "cell_type": "code",
   "execution_count": 186,
   "id": "0940b993",
   "metadata": {},
   "outputs": [],
   "source": [
    "X_train, X_test, y_train, y_test = train_test_split(X, y, test_size=0.3)"
   ]
  },
  {
   "cell_type": "code",
   "execution_count": 187,
   "id": "70a94d73",
   "metadata": {},
   "outputs": [
    {
     "data": {
      "text/plain": [
       "0.6067415730337079"
      ]
     },
     "execution_count": 187,
     "metadata": {},
     "output_type": "execute_result"
    }
   ],
   "source": [
    "#Import Random Forest Model\n",
    "from sklearn.ensemble import RandomForestClassifier\n",
    "\n",
    "clf = RandomForestClassifier()\n",
    "clf.fit(X_train, y_train)\n",
    "clf.score(X_test, y_test)"
   ]
  },
  {
   "cell_type": "code",
   "execution_count": 188,
   "id": "2845a9aa",
   "metadata": {},
   "outputs": [],
   "source": [
    "from sklearn.metrics import accuracy_score, confusion_matrix, classification_report"
   ]
  },
  {
   "cell_type": "code",
   "execution_count": 189,
   "id": "b0038cae",
   "metadata": {},
   "outputs": [],
   "source": [
    "y_pred_test = clf.predict(X_test)"
   ]
  },
  {
   "cell_type": "code",
   "execution_count": 190,
   "id": "faf01d57",
   "metadata": {},
   "outputs": [
    {
     "data": {
      "text/plain": [
       "0.6067415730337079"
      ]
     },
     "execution_count": 190,
     "metadata": {},
     "output_type": "execute_result"
    }
   ],
   "source": [
    "accuracy_score(y_test, y_pred_test)"
   ]
  },
  {
   "cell_type": "code",
   "execution_count": 191,
   "id": "e55e83c7",
   "metadata": {},
   "outputs": [],
   "source": [
    "import numpy as np\n",
    "import matplotlib.pyplot as plt\n",
    "import seaborn as sns"
   ]
  },
  {
   "cell_type": "code",
   "execution_count": 192,
   "id": "8b2096d5",
   "metadata": {},
   "outputs": [
    {
     "data": {
      "image/png": "[encoded data removed]",
      "text/plain": [
       "<Figure size 1152x504 with 2 Axes>"
      ]
     },
     "metadata": {},
     "output_type": "display_data"
    }
   ],
   "source": [
    "# Get and reshape confusion matrix data\n",
    "matrix = confusion_matrix(y_test, y_pred_test)\n",
    "matrix = matrix.astype('float') / matrix.sum(axis=1)[:, np.newaxis]\n",
    "\n",
    "# Build the plot\n",
    "plt.figure(figsize=(16,7))\n",
    "sns.set(font_scale=1.4)\n",
    "sns.heatmap(matrix, annot=True, annot_kws={'size':10},\n",
    "            cmap=plt.cm.Greens, linewidths=0.2)\n",
    "\n",
    "# Add labels to the plot\n",
    "class_names = range(12)\n",
    "tick_marks = np.arange(len(class_names))\n",
    "tick_marks2 = tick_marks + 0.5\n",
    "plt.xticks(tick_marks, class_names, rotation=25)\n",
    "plt.yticks(tick_marks2, class_names, rotation=0)\n",
    "plt.xlabel('Predicted label')\n",
    "plt.ylabel('True label')\n",
    "plt.title('Confusion Matrix for Random Forest Model')\n",
    "plt.show()"
   ]
  },
  {
   "cell_type": "code",
   "execution_count": 193,
   "id": "12ad28d9",
   "metadata": {},
   "outputs": [
    {
     "name": "stdout",
     "output_type": "stream",
     "text": [
      "              precision    recall  f1-score   support\n",
      "\n",
      "           1       0.70      0.74      0.72        42\n",
      "           2       0.67      0.31      0.43        32\n",
      "           3       0.75      0.80      0.77        30\n",
      "           5       0.68      0.54      0.60        28\n",
      "           6       1.00      0.50      0.67         8\n",
      "           7       0.33      0.05      0.09        19\n",
      "          12       0.43      0.39      0.41        33\n",
      "          13       0.73      0.67      0.70        12\n",
      "          15       1.00      0.17      0.29        24\n",
      "          16       0.53      1.00      0.69        53\n",
      "          17       0.92      0.73      0.81        15\n",
      "          19       0.53      0.82      0.64        49\n",
      "          21       0.67      0.18      0.29        11\n",
      "\n",
      "    accuracy                           0.61       356\n",
      "   macro avg       0.69      0.53      0.55       356\n",
      "weighted avg       0.64      0.61      0.57       356\n",
      "\n"
     ]
    }
   ],
   "source": [
    "print(classification_report(y_test, y_pred_test))"
   ]
  },
  {
   "cell_type": "code",
   "execution_count": 203,
   "id": "08c1ecbf",
   "metadata": {},
   "outputs": [
    {
     "data": {
      "text/plain": [
       "(830, 512)"
      ]
     },
     "execution_count": 203,
     "metadata": {},
     "output_type": "execute_result"
    }
   ],
   "source": [
    "X_train.shape"
   ]
  },
  {
   "cell_type": "code",
   "execution_count": 205,
   "id": "37262cfe",
   "metadata": {},
   "outputs": [
    {
     "data": {
      "text/plain": [
       "(830,)"
      ]
     },
     "execution_count": 205,
     "metadata": {},
     "output_type": "execute_result"
    }
   ],
   "source": [
    "y_train.shape"
   ]
  },
  {
   "cell_type": "code",
   "execution_count": 206,
   "id": "d4a77f79",
   "metadata": {},
   "outputs": [
    {
     "data": {
      "text/plain": [
       "KNeighborsClassifier()"
      ]
     },
     "execution_count": 206,
     "metadata": {},
     "output_type": "execute_result"
    }
   ],
   "source": [
    "from sklearn.neighbors import KNeighborsClassifier\n",
    "knn_classifier = KNeighborsClassifier()\n",
    "knn_classifier.fit(X_train, y_train)"
   ]
  },
  {
   "cell_type": "code",
   "execution_count": 207,
   "id": "97ae65f1",
   "metadata": {},
   "outputs": [],
   "source": [
    "knn_predictions = knn_classifier.predict(X_test)"
   ]
  },
  {
   "cell_type": "code",
   "execution_count": 211,
   "id": "f82d9739",
   "metadata": {},
   "outputs": [
    {
     "data": {
      "text/plain": [
       "0.6095505617977528"
      ]
     },
     "execution_count": 211,
     "metadata": {},
     "output_type": "execute_result"
    }
   ],
   "source": [
    "knn_classifier.score(X_test, y_test)"
   ]
  },
  {
   "cell_type": "code",
   "execution_count": 209,
   "id": "6b946537",
   "metadata": {},
   "outputs": [
    {
     "data": {
      "text/plain": [
       "997     19\n",
       "802     16\n",
       "216      2\n",
       "1176    21\n",
       "237      3\n",
       "        ..\n",
       "227      2\n",
       "165      2\n",
       "730     15\n",
       "685     15\n",
       "1158    21\n",
       "Name: Image, Length: 356, dtype: int64"
      ]
     },
     "execution_count": 209,
     "metadata": {},
     "output_type": "execute_result"
    }
   ],
   "source": [
    "y_test"
   ]
  },
  {
   "cell_type": "code",
   "execution_count": 212,
   "id": "93577111",
   "metadata": {},
   "outputs": [],
   "source": [
    "y_pred_test = knn_classifier.predict(X_test)"
   ]
  },
  {
   "cell_type": "code",
   "execution_count": 214,
   "id": "4d0039e2",
   "metadata": {},
   "outputs": [
    {
     "data": {
      "image/png": "[encoded data removed]",
      "text/plain": [
       "<Figure size 1152x504 with 2 Axes>"
      ]
     },
     "metadata": {},
     "output_type": "display_data"
    }
   ],
   "source": [
    "# Get and reshape confusion matrix data\n",
    "matrix = confusion_matrix(y_test, y_pred_test)\n",
    "matrix = matrix.astype('float') / matrix.sum(axis=1)[:, np.newaxis]\n",
    "\n",
    "# Build the plot\n",
    "plt.figure(figsize=(16,7))\n",
    "sns.set(font_scale=1.4)\n",
    "sns.heatmap(matrix, annot=True, annot_kws={'size':10},\n",
    "            cmap=plt.cm.Greens, linewidths=0.2)\n",
    "\n",
    "# Add labels to the plot\n",
    "class_names = range(12)\n",
    "tick_marks = np.arange(len(class_names))\n",
    "tick_marks2 = tick_marks + 0.5\n",
    "plt.xticks(tick_marks, class_names, rotation=25)\n",
    "plt.yticks(tick_marks2, class_names, rotation=0)\n",
    "plt.xlabel('Predicted label')\n",
    "plt.ylabel('True label')\n",
    "plt.title('Confusion Matrix for KNN')\n",
    "plt.show()"
   ]
  },
  {
   "cell_type": "code",
   "execution_count": null,
   "id": "b331bc0d",
   "metadata": {},
   "outputs": [],
   "source": []
  }
 ],
 "metadata": {
  "kernelspec": {
   "display_name": "Python 3",
   "language": "python",
   "name": "python3"
  },
  "language_info": {
   "codemirror_mode": {
    "name": "ipython",
    "version": 3
   },
   "file_extension": ".py",
   "mimetype": "text/x-python",
   "name": "python",
   "nbconvert_exporter": "python",
   "pygments_lexer": "ipython3",
   "version": "3.9.1"
  }
 },
 "nbformat": 4,
 "nbformat_minor": 5
}
