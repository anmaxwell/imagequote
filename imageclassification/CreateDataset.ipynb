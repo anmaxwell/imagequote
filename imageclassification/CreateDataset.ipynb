{
 "cells": [
  {
   "cell_type": "markdown",
   "id": "internal-defeat",
   "metadata": {},
   "source": [
    "This notebook is to create a dataset to be used to train a model for predicting images.  The dataset is a csv containing quotes that are read in then transformed and output to train.\n",
    "\n",
    "By removing all punctuation and stop words, we can then take each word from the quote as an attribute."
   ]
  },
  {
   "cell_type": "code",
   "execution_count": 5,
   "id": "better-seeker",
   "metadata": {},
   "outputs": [],
   "source": [
    "import csv\n",
    "import string\n",
    "import gensim\n",
    "from gensim.parsing.preprocessing import remove_stopwords"
   ]
  },
  {
   "cell_type": "code",
   "execution_count": 6,
   "id": "overall-garage",
   "metadata": {},
   "outputs": [
    {
     "name": "stdout",
     "output_type": "stream",
     "text": [
      "1155\n"
     ]
    }
   ],
   "source": [
    "dataset = []\n",
    "\n",
    "with open('imagequotes.csv') as csvfile:\n",
    "    quotes = csv.reader(csvfile, delimiter=',')\n",
    "    for q in quotes:\n",
    "        text = q[0].translate(str.maketrans('', '', string.punctuation))\n",
    "        filtered_text = remove_stopwords(text)\n",
    "        if len(filtered_text.split()) <20:\n",
    "            dataset.append(filtered_text.split())\n",
    "\n",
    "print(len(dataset))"
   ]
  },
  {
   "cell_type": "code",
   "execution_count": 7,
   "id": "baking-slope",
   "metadata": {},
   "outputs": [],
   "source": [
    "identifier = []\n",
    "for item in dataset:\n",
    "    identifier.append(item[0])"
   ]
  },
  {
   "cell_type": "code",
   "execution_count": 8,
   "id": "fitted-galaxy",
   "metadata": {},
   "outputs": [
    {
     "data": {
      "text/plain": [
       "Counter({'16': 175,\n",
       "         '7': 56,\n",
       "         '18': 27,\n",
       "         '12': 86,\n",
       "         '3': 79,\n",
       "         '21': 28,\n",
       "         '2': 76,\n",
       "         '5': 73,\n",
       "         '1': 124,\n",
       "         '20': 32,\n",
       "         '8': 34,\n",
       "         '15': 48,\n",
       "         '6': 20,\n",
       "         '22': 26,\n",
       "         '19': 170,\n",
       "         '17': 31,\n",
       "         '13': 45,\n",
       "         '4': 18,\n",
       "         '9': 7})"
      ]
     },
     "execution_count": 8,
     "metadata": {},
     "output_type": "execute_result"
    }
   ],
   "source": [
    "from collections import Counter\n",
    "\n",
    "Counter(identifier)"
   ]
  },
  {
   "cell_type": "code",
   "execution_count": null,
   "id": "affiliated-spain",
   "metadata": {},
   "outputs": [],
   "source": []
  },
  {
   "cell_type": "code",
   "execution_count": null,
   "id": "exact-benefit",
   "metadata": {},
   "outputs": [],
   "source": []
  }
 ],
 "metadata": {
  "kernelspec": {
   "display_name": "Python 3",
   "language": "python",
   "name": "python3"
  },
  "language_info": {
   "codemirror_mode": {
    "name": "ipython",
    "version": 3
   },
   "file_extension": ".py",
   "mimetype": "text/x-python",
   "name": "python",
   "nbconvert_exporter": "python",
   "pygments_lexer": "ipython3",
   "version": "3.9.1"
  }
 },
 "nbformat": 4,
 "nbformat_minor": 5
}
