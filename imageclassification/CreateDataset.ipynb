{
 "cells": [
  {
   "cell_type": "markdown",
   "id": "internal-defeat",
   "metadata": {},
   "source": [
    "This notebook is to create a dataset to be used to create a model for predicting images.  The dataset is a csv containing quotes that are read in then transformed and output to train.\n",
    "\n",
    "By removing all punctuation and stop words, we can then take each word from the quote as an attribute."
   ]
  },
  {
   "cell_type": "code",
   "execution_count": 21,
   "id": "better-seeker",
   "metadata": {},
   "outputs": [],
   "source": [
    "import csv\n",
    "import string\n",
    "import gensim\n",
    "from gensim.parsing.preprocessing import remove_stopwords"
   ]
  },
  {
   "cell_type": "code",
   "execution_count": 23,
   "id": "overall-garage",
   "metadata": {},
   "outputs": [
    {
     "name": "stdout",
     "output_type": "stream",
     "text": [
      "2071\n"
     ]
    }
   ],
   "source": [
    "dataset = []\n",
    "\n",
    "with open('imagequotes.csv') as csvfile:\n",
    "    quotes = csv.reader(csvfile, delimiter=',')\n",
    "    for q in quotes:\n",
    "        text = q[0].translate(str.maketrans('', '', string.punctuation))\n",
    "        filtered_text = remove_stopwords(text)\n",
    "        if len(filtered_text.split()) <20:\n",
    "            dataset.append(filtered_text.split())\n",
    "\n",
    "print(len(dataset))"
   ]
  },
  {
   "cell_type": "code",
   "execution_count": null,
   "id": "baking-slope",
   "metadata": {},
   "outputs": [],
   "source": []
  }
 ],
 "metadata": {
  "kernelspec": {
   "display_name": "Python 3",
   "language": "python",
   "name": "python3"
  },
  "language_info": {
   "codemirror_mode": {
    "name": "ipython",
    "version": 3
   },
   "file_extension": ".py",
   "mimetype": "text/x-python",
   "name": "python",
   "nbconvert_exporter": "python",
   "pygments_lexer": "ipython3",
   "version": "3.9.1"
  }
 },
 "nbformat": 4,
 "nbformat_minor": 5
}
